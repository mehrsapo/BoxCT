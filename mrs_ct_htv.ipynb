{
 "cells": [
  {
   "cell_type": "code",
   "execution_count": null,
   "metadata": {},
   "outputs": [],
   "source": [
    "from __init__ import *\n",
    "from MultiResSolver_ct import *\n",
    "\n",
    "from skimage.io import imread\n",
    "import cv2"
   ]
  },
  {
   "cell_type": "code",
   "execution_count": null,
   "metadata": {},
   "outputs": [],
   "source": [
    "box_basis = BoxBasis()"
   ]
  },
  {
   "cell_type": "code",
   "execution_count": null,
   "metadata": {},
   "outputs": [],
   "source": [
    "img = imread('data/ID_0000_AGE_0060_CONTRAST_1_CT.tif') \n",
    "img = (img - np.min(img)) / (img.max() - img.min())\n",
    "image_size = 255\n",
    "dim = (image_size, image_size)\n",
    "\n",
    "# resize image\n",
    "img = cv2.resize(img, dim, interpolation = cv2.INTER_CUBIC)    \n",
    "\n",
    "    \n",
    "device = 'cuda:1'\n",
    "N_grid = 257\n",
    "N_theta = 120\n",
    "N_y = 200\n",
    "thetas = torch.linspace(0, np.pi, N_theta).to(device).double()\n",
    "thetas = thetas[:N_theta]\n",
    "y_values = torch.linspace(-400, 400, N_y)[:, None, None]\n",
    "\n",
    "c_tensor = F.pad(torch.from_numpy(img), (1, 1, 1, 1))[None, None, :, :].to(device)\n",
    "\n",
    "x_ray = XrayMS(N_y, N_theta, box_basis, thetas, y_values, device)\n",
    "x_ray.update_grid(1, N_grid)\n",
    "y = x_ray.H(c_tensor)"
   ]
  },
  {
   "cell_type": "code",
   "execution_count": null,
   "metadata": {},
   "outputs": [],
   "source": [
    "mrs = MultiResSolver('ct', 'htv', lmbda =0.1, h_init=8, N_scales=5, range_r=256,\n",
    "                 device=device, verbose=True, toi=1e-6, N_rays=N_y, N_theta=N_theta, box_basis=box_basis, thetas=thetas, y_values=y_values)"
   ]
  },
  {
   "cell_type": "code",
   "execution_count": null,
   "metadata": {},
   "outputs": [],
   "source": [
    "mrs.solve_ct(y)"
   ]
  },
  {
   "cell_type": "code",
   "execution_count": null,
   "metadata": {},
   "outputs": [],
   "source": [
    "rep = 'saved_results/'\n",
    "torch.save(mrs.sols[0], rep+'mrs_0_htv_0.1.pt')\n",
    "torch.save(mrs.sols[1], rep+'mrs_1_htv_0.1.pt')\n",
    "torch.save(mrs.sols[2], rep+'mrs_2_htv_0.1.pt')\n",
    "torch.save(mrs.sols[3], rep+'mrs_3_htv_0.1.pt')\n",
    "torch.save(mrs.sols[4], rep+'mrs_4_htv_0.1.pt')"
   ]
  },
  {
   "cell_type": "code",
   "execution_count": null,
   "metadata": {},
   "outputs": [],
   "source": [
    "torch.save(mrs.costs, rep+'mrs_htv_cost_0.1.pt')\n",
    "torch.save(mrs.losses, rep+'mrs_htv_loss_0.1.pt')\n",
    "torch.save(mrs.reg_values, rep+'mrs_htv_reg_0.1.pt')\n",
    "torch.save(mrs.mses, rep+'mrs_htv_mse_0.1.pt')\n",
    "torch.save(mrs.iters, rep+'mrs_htv_iters_0.1.pt')"
   ]
  },
  {
   "cell_type": "code",
   "execution_count": null,
   "metadata": {},
   "outputs": [],
   "source": []
  }
 ],
 "metadata": {
  "kernelspec": {
   "display_name": "htv_reg",
   "language": "python",
   "name": "python3"
  },
  "language_info": {
   "codemirror_mode": {
    "name": "ipython",
    "version": 3
   },
   "file_extension": ".py",
   "mimetype": "text/x-python",
   "name": "python",
   "nbconvert_exporter": "python",
   "pygments_lexer": "ipython3",
   "version": "3.9.16"
  }
 },
 "nbformat": 4,
 "nbformat_minor": 2
}
